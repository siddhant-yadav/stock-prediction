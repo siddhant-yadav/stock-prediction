{
  "nbformat": 4,
  "nbformat_minor": 0,
  "metadata": {
    "colab": {
      "name": "Stock_Forecasting_Model.ipynb",
      "provenance": []
    },
    "kernelspec": {
      "name": "python3",
      "display_name": "Python 3",
      "language": "python"
    }
  },
  "cells": [
    {
      "cell_type": "code",
      "metadata": {
        "id": "3YtRWpO3KKdf"
      },
      "source": [
        "# Import the libraries\n",
        "import math\n",
        "import pandas_datareader as web\n",
        "import numpy as np\n",
        "import pandas as pd\n",
        "import tensorflow as tf\n",
        "from sklearn.preprocessing import MinMaxScaler\n",
        "from sklearn.metrics import mean_squared_error\n",
        "from keras.models import Sequential\n",
        "from keras.layers import Dense, LSTM\n",
        "import matplotlib.pyplot as plt\n",
        "from datetime import datetime\n",
        "plt.style.use('fivethirtyeight')\n"
      ],
      "execution_count": null,
      "outputs": []
    },
    {
      "cell_type": "code",
      "execution_count": null,
      "metadata": {},
      "outputs": [],
      "source": [
        "ticker = input(\"Enter the Ticker u wish to Predict\")"
      ]
    },
    {
      "cell_type": "code",
      "execution_count": null,
      "metadata": {},
      "outputs": [],
      "source": [
        "now = datetime.now() # current date and time\n",
        "today_date = now.strftime(\"%Y-%m-%d\")"
      ]
    },
    {
      "cell_type": "code",
      "metadata": {
        "colab": {
          "base_uri": "https://localhost:8080/",
          "height": 431
        },
        "id": "qffMcxmhLFXZ",
        "outputId": "3d32e0b7-93a1-43d6-908b-40f873093a1a"
      },
      "source": [
        "df = web.DataReader(ticker, data_source='yahoo', start='2012-01-01', end=today_date)\n",
        "df\n"
      ],
      "execution_count": null,
      "outputs": []
    },
    {
      "cell_type": "code",
      "metadata": {
        "colab": {
          "base_uri": "https://localhost:8080/"
        },
        "id": "fv7RWJiwLypg",
        "outputId": "5b7d82a8-f4de-41c8-ae98-07646f3926da"
      },
      "source": [
        "df.shape"
      ],
      "execution_count": null,
      "outputs": []
    },
    {
      "cell_type": "code",
      "metadata": {
        "colab": {
          "base_uri": "https://localhost:8080/",
          "height": 299
        },
        "id": "Kqk9uO9kMph8",
        "outputId": "2630cfab-9101-4bff-c7de-dbe05d08acca"
      },
      "source": [
        "\r\n",
        "plt.plot(df['Close'])"
      ],
      "execution_count": null,
      "outputs": []
    },
    {
      "cell_type": "code",
      "metadata": {
        "colab": {
          "base_uri": "https://localhost:8080/"
        },
        "id": "-JFWJVpFNWwd",
        "outputId": "1d6ff04c-5063-4933-ed79-eed34f12dd6e"
      },
      "source": [
        "df1=df.reset_index()['Close']\r\n",
        "df1"
      ],
      "execution_count": null,
      "outputs": []
    },
    {
      "cell_type": "code",
      "metadata": {
        "colab": {
          "base_uri": "https://localhost:8080/"
        },
        "id": "XZY-S-JmOGbt",
        "outputId": "c41f932d-2471-4e8c-b1bc-4b4b6846f6d5"
      },
      "source": [
        "df1.shape"
      ],
      "execution_count": null,
      "outputs": []
    },
    {
      "cell_type": "code",
      "metadata": {
        "id": "3RG2LwHFOwfZ"
      },
      "source": [
        "df1=np.array(df1).reshape(-1,1)"
      ],
      "execution_count": null,
      "outputs": []
    },
    {
      "cell_type": "code",
      "metadata": {
        "colab": {
          "base_uri": "https://localhost:8080/"
        },
        "id": "Plwij3uSPbav",
        "outputId": "0e5d8576-56d1-4dc0-a6b7-d7f6032c9e63"
      },
      "source": [
        "df1.shape"
      ],
      "execution_count": null,
      "outputs": []
    },
    {
      "cell_type": "code",
      "metadata": {
        "colab": {
          "base_uri": "https://localhost:8080/"
        },
        "id": "ASiYuu6CPrH6",
        "outputId": "123459d4-6aca-40e4-e774-5ce7d4a02b4a"
      },
      "source": [
        "df1"
      ],
      "execution_count": null,
      "outputs": []
    },
    {
      "cell_type": "code",
      "metadata": {
        "id": "UtS8OxVcON8C"
      },
      "source": [
        "scalar=MinMaxScaler(feature_range=(0,1))\r\n",
        "df1=scalar.fit_transform(df1)\r\n"
      ],
      "execution_count": null,
      "outputs": []
    },
    {
      "cell_type": "code",
      "metadata": {
        "colab": {
          "base_uri": "https://localhost:8080/"
        },
        "id": "ACikB_xbPy9W",
        "outputId": "bef4704c-96e2-4020-b693-e69d23dc7fc9"
      },
      "source": [
        "df1"
      ],
      "execution_count": null,
      "outputs": []
    },
    {
      "cell_type": "code",
      "metadata": {
        "id": "HQnCkF4XPz-Q"
      },
      "source": [
        "# split b/w test data and train data\r\n",
        "training_size=int(len(df1)*0.65)\r\n",
        "test_size=len(df1)-training_size\r\n",
        "train_data, test_data=df1[0:training_size,:],df1[training_size:len(df1),:1]\r\n",
        "\r\n"
      ],
      "execution_count": null,
      "outputs": []
    },
    {
      "cell_type": "code",
      "metadata": {
        "colab": {
          "base_uri": "https://localhost:8080/"
        },
        "id": "tu0z4nwUR-i1",
        "outputId": "46071817-e50d-48a3-add0-129496f54839"
      },
      "source": [
        "train_data.shape"
      ],
      "execution_count": null,
      "outputs": []
    },
    {
      "cell_type": "code",
      "metadata": {
        "colab": {
          "base_uri": "https://localhost:8080/"
        },
        "id": "c6eM7dUoW9b6",
        "outputId": "083cab9f-8321-4f9a-d81c-b8c25e9f8dda"
      },
      "source": [
        "test_data.shape"
      ],
      "execution_count": null,
      "outputs": []
    },
    {
      "cell_type": "code",
      "metadata": {
        "id": "mFd_4jdIW_ID"
      },
      "source": [
        "# Timeseries data\r\n",
        "\r\n",
        "def create_data (data, time_step=1):\r\n",
        "  data1,data2= [], []\r\n",
        "  for i in range(len(data)-time_step-1):\r\n",
        "    a = data[i:(i+time_step),0]\r\n",
        "    data1.append(a)\r\n",
        "    data2.append(data[i+time_step,0])\r\n",
        "  return np.array(data1), np.array(data2)\r\n",
        "  "
      ],
      "execution_count": null,
      "outputs": []
    },
    {
      "cell_type": "code",
      "metadata": {
        "id": "jxfFvohlh4z2"
      },
      "source": [
        "time_step=100\r\n",
        "x_train, y_train= create_data(train_data,time_step)"
      ],
      "execution_count": null,
      "outputs": []
    },
    {
      "cell_type": "code",
      "metadata": {
        "colab": {
          "base_uri": "https://localhost:8080/"
        },
        "id": "NNTy20nXiMNh",
        "outputId": "3d29f340-f467-4e48-dbc2-35a8618e98f4"
      },
      "source": [
        "x_train.shape"
      ],
      "execution_count": null,
      "outputs": []
    },
    {
      "cell_type": "code",
      "metadata": {
        "colab": {
          "base_uri": "https://localhost:8080/"
        },
        "id": "rgiflqj3iNzW",
        "outputId": "2efd8c67-69f2-49ca-c0ef-ba092d37d361"
      },
      "source": [
        "y_train"
      ],
      "execution_count": null,
      "outputs": []
    },
    {
      "cell_type": "code",
      "metadata": {
        "id": "5cLHYBwWiO6X"
      },
      "source": [
        "x_test, y_test =create_data(test_data,time_step)"
      ],
      "execution_count": null,
      "outputs": []
    },
    {
      "cell_type": "code",
      "metadata": {
        "colab": {
          "base_uri": "https://localhost:8080/"
        },
        "id": "ttCf-hFtitVq",
        "outputId": "0b6a024b-074f-4279-91a5-d40b5a465067"
      },
      "source": [
        "x_test.shape"
      ],
      "execution_count": null,
      "outputs": []
    },
    {
      "cell_type": "code",
      "metadata": {
        "colab": {
          "base_uri": "https://localhost:8080/"
        },
        "id": "daOo9_Dciu94",
        "outputId": "df22dfa3-56f5-4ae7-9463-7fe87d6c77fe"
      },
      "source": [
        "y_test.shape"
      ],
      "execution_count": null,
      "outputs": []
    },
    {
      "cell_type": "code",
      "metadata": {
        "id": "OWg-5v6dtx3_"
      },
      "source": [
        "# reshape\r\n",
        "x_train=x_train.reshape(x_train.shape[0],x_train.shape[1],1)\r\n",
        "x_test=x_test.reshape(x_test.shape[0],x_test.shape[1],1)\r\n"
      ],
      "execution_count": null,
      "outputs": []
    },
    {
      "cell_type": "code",
      "metadata": {
        "id": "_yDBZok8jAgY"
      },
      "source": [
        "model=Sequential()\r\n",
        "model.add(LSTM(50,return_sequences=True,input_shape=(100,1)))\r\n",
        "model.add(LSTM(50,return_sequences=True))\r\n",
        "model.add(LSTM(50))\r\n",
        "model.add(Dense(1))\r\n",
        "model.compile(loss='mean_squared_error',optimizer='adam')"
      ],
      "execution_count": null,
      "outputs": []
    },
    {
      "cell_type": "code",
      "metadata": {
        "colab": {
          "base_uri": "https://localhost:8080/"
        },
        "id": "DaiHcMUPi04Y",
        "outputId": "ac9d5fc7-c30d-474a-a95b-c5729ce702b1"
      },
      "source": [
        "model.summary()"
      ],
      "execution_count": null,
      "outputs": []
    },
    {
      "cell_type": "code",
      "metadata": {
        "colab": {
          "base_uri": "https://localhost:8080/"
        },
        "id": "Ai2oWuH1i5sb",
        "outputId": "8b6d29a0-5ce3-4277-cc7f-99845fb17f26"
      },
      "source": [
        "model.fit(x_train,y_train,validation_data=(x_test,y_test),epochs=100,batch_size=64,verbose=1)"
      ],
      "execution_count": null,
      "outputs": []
    },
    {
      "cell_type": "code",
      "metadata": {
        "id": "ZZsVwnK2thkh"
      },
      "source": [
        "# Let do the prediction and check performance matrics\r\n",
        "train_predict=model.predict(x_train)\r\n",
        "test_predict=model.predict(x_test)\r\n"
      ],
      "execution_count": null,
      "outputs": []
    },
    {
      "cell_type": "code",
      "metadata": {
        "id": "wg2aTHj5vmHQ"
      },
      "source": [
        "train_predict=scalar.inverse_transform(train_predict)\r\n",
        "test_predict=scalar.inverse_transform(test_predict)"
      ],
      "execution_count": null,
      "outputs": []
    },
    {
      "cell_type": "code",
      "metadata": {
        "colab": {
          "base_uri": "https://localhost:8080/"
        },
        "id": "GFu5-vm4v8ox",
        "outputId": "bd7cb2d6-d2b4-4fd7-c69a-de57a0948090"
      },
      "source": [
        "#### Calculate RMSE performance metrics\r\n",
        "math.sqrt(mean_squared_error(y_train,train_predict))\r\n"
      ],
      "execution_count": null,
      "outputs": []
    },
    {
      "cell_type": "code",
      "metadata": {
        "colab": {
          "base_uri": "https://localhost:8080/"
        },
        "id": "uf3iuGxbwmWi",
        "outputId": "b7aa5da8-57d2-4bed-916b-9fcca36205e3"
      },
      "source": [
        "### Test Data RMSE\r\n",
        "math.sqrt(mean_squared_error(y_test,test_predict))\r\n"
      ],
      "execution_count": null,
      "outputs": []
    },
    {
      "cell_type": "code",
      "metadata": {
        "id": "NA34VlkKwzki"
      },
      "source": [
        "## Map\r\n"
      ],
      "execution_count": null,
      "outputs": []
    }
  ]
}